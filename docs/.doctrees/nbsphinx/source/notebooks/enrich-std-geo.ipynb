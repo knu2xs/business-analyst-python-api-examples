{
 "cells": [
  {
   "cell_type": "markdown",
   "metadata": {},
   "source": [
    "# Enrich Using Standard Geography"
   ]
  },
  {
   "cell_type": "code",
   "execution_count": 1,
   "metadata": {},
   "outputs": [],
   "source": [
    "from arcgis.features import GeoAccessor\n",
    "from arcgis.gis import GIS\n",
    "\n",
    "from arcgis.geoenrichment import Country"
   ]
  },
  {
   "cell_type": "markdown",
   "metadata": {},
   "source": [
    "## Create a GIS Object"
   ]
  },
  {
   "cell_type": "code",
   "execution_count": 3,
   "metadata": {},
   "outputs": [
    {
     "data": {
      "text/html": [
       "GIS @ <a href=\"https://baqa.mapsqa.arcgis.com\">https://baqa.mapsqa.arcgis.com</a>"
      ],
      "text/plain": [
       "GIS @ https://baqa.mapsqa.arcgis.com version:10.2"
      ]
     },
     "execution_count": 3,
     "metadata": {},
     "output_type": "execute_result"
    }
   ],
   "source": [
    "gis = GIS(profile='baqa')\n",
    "\n",
    "gis"
   ]
  },
  {
   "cell_type": "markdown",
   "metadata": {},
   "source": [
    "## Create Country"
   ]
  },
  {
   "cell_type": "code",
   "execution_count": 4,
   "metadata": {},
   "outputs": [
    {
     "data": {
      "text/plain": [
       "<Country - United States (GIS @ https://baqa.mapsqa.arcgis.com version:10.2)>"
      ]
     },
     "execution_count": 4,
     "metadata": {},
     "output_type": "execute_result"
    }
   ],
   "source": [
    "usa = Country('usa', gis=gis)\n",
    "\n",
    "usa"
   ]
  },
  {
   "cell_type": "markdown",
   "metadata": {},
   "source": [
    "## Discover Available Geographic Levels"
   ]
  },
  {
   "cell_type": "code",
   "execution_count": 5,
   "metadata": {},
   "outputs": [
    {
     "data": {
      "text/html": [
       "<div>\n",
       "<style scoped>\n",
       "    .dataframe tbody tr th:only-of-type {\n",
       "        vertical-align: middle;\n",
       "    }\n",
       "\n",
       "    .dataframe tbody tr th {\n",
       "        vertical-align: top;\n",
       "    }\n",
       "\n",
       "    .dataframe thead th {\n",
       "        text-align: right;\n",
       "    }\n",
       "</style>\n",
       "<table border=\"1\" class=\"dataframe\">\n",
       "  <thead>\n",
       "    <tr style=\"text-align: right;\">\n",
       "      <th></th>\n",
       "      <th>level_name</th>\n",
       "      <th>singular_name</th>\n",
       "      <th>plural_name</th>\n",
       "      <th>alias</th>\n",
       "      <th>level_id</th>\n",
       "      <th>admin_level</th>\n",
       "    </tr>\n",
       "  </thead>\n",
       "  <tbody>\n",
       "    <tr>\n",
       "      <th>0</th>\n",
       "      <td>block_groups</td>\n",
       "      <td>Block Group</td>\n",
       "      <td>Block Groups</td>\n",
       "      <td>Block Groups</td>\n",
       "      <td>US.BlockGroups</td>\n",
       "      <td></td>\n",
       "    </tr>\n",
       "    <tr>\n",
       "      <th>1</th>\n",
       "      <td>tracts</td>\n",
       "      <td>Census Tract</td>\n",
       "      <td>Census Tracts</td>\n",
       "      <td>Census Tracts</td>\n",
       "      <td>US.Tracts</td>\n",
       "      <td></td>\n",
       "    </tr>\n",
       "    <tr>\n",
       "      <th>2</th>\n",
       "      <td>places</td>\n",
       "      <td>Place</td>\n",
       "      <td>Places</td>\n",
       "      <td>Cities and Towns (Places)</td>\n",
       "      <td>US.Places</td>\n",
       "      <td></td>\n",
       "    </tr>\n",
       "    <tr>\n",
       "      <th>3</th>\n",
       "      <td>zip5</td>\n",
       "      <td>ZIP Code</td>\n",
       "      <td>ZIP Codes</td>\n",
       "      <td>ZIP Codes</td>\n",
       "      <td>US.ZIP5</td>\n",
       "      <td>Admin4</td>\n",
       "    </tr>\n",
       "    <tr>\n",
       "      <th>4</th>\n",
       "      <td>csd</td>\n",
       "      <td>County Subdivision</td>\n",
       "      <td>County Subdivisions</td>\n",
       "      <td>County Subdivisions</td>\n",
       "      <td>US.CSD</td>\n",
       "      <td></td>\n",
       "    </tr>\n",
       "    <tr>\n",
       "      <th>5</th>\n",
       "      <td>counties</td>\n",
       "      <td>County</td>\n",
       "      <td>Counties</td>\n",
       "      <td>Counties</td>\n",
       "      <td>US.Counties</td>\n",
       "      <td>Admin3</td>\n",
       "    </tr>\n",
       "    <tr>\n",
       "      <th>6</th>\n",
       "      <td>cbsa</td>\n",
       "      <td>CBSA</td>\n",
       "      <td>CBSAs</td>\n",
       "      <td>CBSAs</td>\n",
       "      <td>US.CBSA</td>\n",
       "      <td></td>\n",
       "    </tr>\n",
       "    <tr>\n",
       "      <th>7</th>\n",
       "      <td>cd</td>\n",
       "      <td>Congressional District</td>\n",
       "      <td>Congressional Districts</td>\n",
       "      <td>Congressional Districts</td>\n",
       "      <td>US.CD</td>\n",
       "      <td></td>\n",
       "    </tr>\n",
       "    <tr>\n",
       "      <th>8</th>\n",
       "      <td>dma</td>\n",
       "      <td>DMA</td>\n",
       "      <td>DMAs</td>\n",
       "      <td>DMAs</td>\n",
       "      <td>US.DMA</td>\n",
       "      <td></td>\n",
       "    </tr>\n",
       "    <tr>\n",
       "      <th>9</th>\n",
       "      <td>states</td>\n",
       "      <td>State</td>\n",
       "      <td>States</td>\n",
       "      <td>States</td>\n",
       "      <td>US.States</td>\n",
       "      <td>Admin2</td>\n",
       "    </tr>\n",
       "    <tr>\n",
       "      <th>10</th>\n",
       "      <td>whole_usa</td>\n",
       "      <td>United States of America</td>\n",
       "      <td>United States of America</td>\n",
       "      <td>Entire Country</td>\n",
       "      <td>US.WholeUSA</td>\n",
       "      <td>Admin1</td>\n",
       "    </tr>\n",
       "  </tbody>\n",
       "</table>\n",
       "</div>"
      ],
      "text/plain": [
       "      level_name             singular_name               plural_name  \\\n",
       "0   block_groups               Block Group              Block Groups   \n",
       "1         tracts              Census Tract             Census Tracts   \n",
       "2         places                     Place                    Places   \n",
       "3           zip5                  ZIP Code                 ZIP Codes   \n",
       "4            csd        County Subdivision       County Subdivisions   \n",
       "5       counties                    County                  Counties   \n",
       "6           cbsa                      CBSA                     CBSAs   \n",
       "7             cd    Congressional District   Congressional Districts   \n",
       "8            dma                       DMA                      DMAs   \n",
       "9         states                     State                    States   \n",
       "10     whole_usa  United States of America  United States of America   \n",
       "\n",
       "                        alias        level_id admin_level  \n",
       "0                Block Groups  US.BlockGroups              \n",
       "1               Census Tracts       US.Tracts              \n",
       "2   Cities and Towns (Places)       US.Places              \n",
       "3                   ZIP Codes         US.ZIP5      Admin4  \n",
       "4         County Subdivisions          US.CSD              \n",
       "5                    Counties     US.Counties      Admin3  \n",
       "6                       CBSAs         US.CBSA              \n",
       "7     Congressional Districts           US.CD              \n",
       "8                        DMAs          US.DMA              \n",
       "9                      States       US.States      Admin2  \n",
       "10             Entire Country     US.WholeUSA      Admin1  "
      ]
     },
     "execution_count": 5,
     "metadata": {},
     "output_type": "execute_result"
    }
   ],
   "source": [
    "usa.levels"
   ]
  },
  {
   "cell_type": "markdown",
   "metadata": {},
   "source": [
    "## Enrich a County by FIPS"
   ]
  },
  {
   "cell_type": "code",
   "execution_count": 7,
   "metadata": {},
   "outputs": [
    {
     "data": {
      "text/html": [
       "<div>\n",
       "<style scoped>\n",
       "    .dataframe tbody tr th:only-of-type {\n",
       "        vertical-align: middle;\n",
       "    }\n",
       "\n",
       "    .dataframe tbody tr th {\n",
       "        vertical-align: top;\n",
       "    }\n",
       "\n",
       "    .dataframe thead th {\n",
       "        text-align: right;\n",
       "    }\n",
       "</style>\n",
       "<table border=\"1\" class=\"dataframe\">\n",
       "  <thead>\n",
       "    <tr style=\"text-align: right;\">\n",
       "      <th></th>\n",
       "      <th>std_geography_level</th>\n",
       "      <th>std_geography_name</th>\n",
       "      <th>std_geography_id</th>\n",
       "      <th>source_country</th>\n",
       "      <th>aggregation_method</th>\n",
       "      <th>population_to_polygon_size_rating</th>\n",
       "      <th>apportionment_confidence</th>\n",
       "      <th>has_data</th>\n",
       "      <th>totpop</th>\n",
       "      <th>SHAPE</th>\n",
       "    </tr>\n",
       "  </thead>\n",
       "  <tbody>\n",
       "    <tr>\n",
       "      <th>0</th>\n",
       "      <td>US.Counties</td>\n",
       "      <td>Alameda County</td>\n",
       "      <td>06001</td>\n",
       "      <td>USA</td>\n",
       "      <td>Query:US.Counties</td>\n",
       "      <td>2.191</td>\n",
       "      <td>2.576</td>\n",
       "      <td>1</td>\n",
       "      <td>1707142.0</td>\n",
       "      <td>{\"rings\": [[[-122.27036220796694, 37.904395965...</td>\n",
       "    </tr>\n",
       "  </tbody>\n",
       "</table>\n",
       "</div>"
      ],
      "text/plain": [
       "  std_geography_level std_geography_name std_geography_id source_country  \\\n",
       "0         US.Counties     Alameda County            06001            USA   \n",
       "\n",
       "  aggregation_method  population_to_polygon_size_rating  \\\n",
       "0  Query:US.Counties                              2.191   \n",
       "\n",
       "   apportionment_confidence  has_data     totpop  \\\n",
       "0                     2.576         1  1707142.0   \n",
       "\n",
       "                                               SHAPE  \n",
       "0  {\"rings\": [[[-122.27036220796694, 37.904395965...  "
      ]
     },
     "execution_count": 7,
     "metadata": {},
     "output_type": "execute_result"
    }
   ],
   "source": [
    "usa.enrich(['06001'], ['KeyGlobalFacts.TOTPOP'], standard_geography_level='counties')"
   ]
  },
  {
   "cell_type": "code",
   "execution_count": null,
   "metadata": {},
   "outputs": [],
   "source": []
  }
 ],
 "metadata": {
  "kernelspec": {
   "display_name": "Python 3 (ipykernel)",
   "language": "python",
   "name": "python3"
  },
  "language_info": {
   "codemirror_mode": {
    "name": "ipython",
    "version": 3
   },
   "file_extension": ".py",
   "mimetype": "text/x-python",
   "name": "python",
   "nbconvert_exporter": "python",
   "pygments_lexer": "ipython3",
   "version": "3.9.12"
  }
 },
 "nbformat": 4,
 "nbformat_minor": 4
}
