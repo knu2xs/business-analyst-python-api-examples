{
 "cells": [
  {
   "cell_type": "code",
   "execution_count": 1,
   "metadata": {},
   "outputs": [],
   "source": [
    "import importlib\n",
    "import os\n",
    "from pathlib import Path\n",
    "import sys\n",
    "\n",
    "from arcgis.features import GeoAccessor, GeoSeriesAccessor\n",
    "from arcgis.gis import GIS\n",
    "from dotenv import load_dotenv, find_dotenv\n",
    "import pandas as pd"
   ]
  },
  {
   "cell_type": "code",
   "execution_count": 2,
   "metadata": {},
   "outputs": [],
   "source": [
    "# paths to common data locations - NOTE: to convert any path to a raw string, simply use str(path_instance)\n",
    "dir_prj = Path.cwd().parent\n",
    "\n",
    "dir_data = dir_prj/'data'\n",
    "\n",
    "dir_raw = dir_data/'raw'\n",
    "dir_ext = dir_data/'external'\n",
    "dir_int = dir_data/'interim'\n",
    "dir_out = dir_data/'processed'\n",
    "\n",
    "gdb_raw = dir_raw/'raw.gdb'\n",
    "gdb_int = dir_int/'interim.gdb'\n",
    "gdb_out = dir_out/'processed.gdb'"
   ]
  },
  {
   "cell_type": "code",
   "execution_count": 4,
   "metadata": {},
   "outputs": [
    {
     "data": {
      "text/plain": [
       "'D:\\\\scratch\\\\geoenrichment-demos\\\\data\\\\interim\\\\interim.gdb\\\\pdx_block_groups'"
      ]
     },
     "execution_count": 4,
     "metadata": {},
     "output_type": "execute_result"
    }
   ],
   "source": [
    "bg_fc = r'D:\\scratch\\geoenrichment-demos\\data\\interim\\interim.gdb\\pdx_block_groups'\n",
    "\n",
    "bg_fc"
   ]
  },
  {
   "cell_type": "code",
   "execution_count": 6,
   "metadata": {},
   "outputs": [
    {
     "data": {
      "text/html": [
       "<div>\n",
       "<style scoped>\n",
       "    .dataframe tbody tr th:only-of-type {\n",
       "        vertical-align: middle;\n",
       "    }\n",
       "\n",
       "    .dataframe tbody tr th {\n",
       "        vertical-align: top;\n",
       "    }\n",
       "\n",
       "    .dataframe thead th {\n",
       "        text-align: right;\n",
       "    }\n",
       "</style>\n",
       "<table border=\"1\" class=\"dataframe\">\n",
       "  <thead>\n",
       "    <tr style=\"text-align: right;\">\n",
       "      <th></th>\n",
       "      <th>OBJECTID</th>\n",
       "      <th>ID</th>\n",
       "      <th>NAME</th>\n",
       "      <th>IDField</th>\n",
       "      <th>Area</th>\n",
       "      <th>SHAPE</th>\n",
       "    </tr>\n",
       "  </thead>\n",
       "  <tbody>\n",
       "    <tr>\n",
       "      <th>0</th>\n",
       "      <td>4</td>\n",
       "      <td>410710305021</td>\n",
       "      <td>410710305.021</td>\n",
       "      <td>38900</td>\n",
       "      <td>0.999999</td>\n",
       "      <td>{\"rings\": [[[-123.566017000063, 45.21638999908...</td>\n",
       "    </tr>\n",
       "    <tr>\n",
       "      <th>1</th>\n",
       "      <td>5</td>\n",
       "      <td>410050237001</td>\n",
       "      <td>410050237.001</td>\n",
       "      <td>38900</td>\n",
       "      <td>1.000000</td>\n",
       "      <td>{\"rings\": [[[-122.616170999632, 45.26745799929...</td>\n",
       "    </tr>\n",
       "    <tr>\n",
       "      <th>2</th>\n",
       "      <td>6</td>\n",
       "      <td>410050237002</td>\n",
       "      <td>410050237.002</td>\n",
       "      <td>38900</td>\n",
       "      <td>1.000000</td>\n",
       "      <td>{\"rings\": [[[-122.57048000011571, 45.237516999...</td>\n",
       "    </tr>\n",
       "    <tr>\n",
       "      <th>3</th>\n",
       "      <td>7</td>\n",
       "      <td>410050237003</td>\n",
       "      <td>410050237.003</td>\n",
       "      <td>38900</td>\n",
       "      <td>1.000000</td>\n",
       "      <td>{\"rings\": [[[-122.5111050007072, 45.2601139996...</td>\n",
       "    </tr>\n",
       "    <tr>\n",
       "      <th>4</th>\n",
       "      <td>8</td>\n",
       "      <td>410050237004</td>\n",
       "      <td>410050237.004</td>\n",
       "      <td>38900</td>\n",
       "      <td>1.000000</td>\n",
       "      <td>{\"rings\": [[[-122.5074989996634, 45.2300989998...</td>\n",
       "    </tr>\n",
       "  </tbody>\n",
       "</table>\n",
       "</div>"
      ],
      "text/plain": [
       "   OBJECTID            ID           NAME IDField      Area  \\\n",
       "0         4  410710305021  410710305.021   38900  0.999999   \n",
       "1         5  410050237001  410050237.001   38900  1.000000   \n",
       "2         6  410050237002  410050237.002   38900  1.000000   \n",
       "3         7  410050237003  410050237.003   38900  1.000000   \n",
       "4         8  410050237004  410050237.004   38900  1.000000   \n",
       "\n",
       "                                               SHAPE  \n",
       "0  {\"rings\": [[[-123.566017000063, 45.21638999908...  \n",
       "1  {\"rings\": [[[-122.616170999632, 45.26745799929...  \n",
       "2  {\"rings\": [[[-122.57048000011571, 45.237516999...  \n",
       "3  {\"rings\": [[[-122.5111050007072, 45.2601139996...  \n",
       "4  {\"rings\": [[[-122.5074989996634, 45.2300989998...  "
      ]
     },
     "execution_count": 6,
     "metadata": {},
     "output_type": "execute_result"
    }
   ],
   "source": [
    "bg_df = GeoAccessor.from_featureclass(bg_fc)\n",
    "\n",
    "bg_df.head()"
   ]
  },
  {
   "cell_type": "code",
   "execution_count": 9,
   "metadata": {},
   "outputs": [
    {
     "data": {
      "text/html": [
       "<div>\n",
       "<style scoped>\n",
       "    .dataframe tbody tr th:only-of-type {\n",
       "        vertical-align: middle;\n",
       "    }\n",
       "\n",
       "    .dataframe tbody tr th {\n",
       "        vertical-align: top;\n",
       "    }\n",
       "\n",
       "    .dataframe thead th {\n",
       "        text-align: right;\n",
       "    }\n",
       "</style>\n",
       "<table border=\"1\" class=\"dataframe\">\n",
       "  <thead>\n",
       "    <tr style=\"text-align: right;\">\n",
       "      <th></th>\n",
       "      <th>ID</th>\n",
       "      <th>SHAPE</th>\n",
       "    </tr>\n",
       "  </thead>\n",
       "  <tbody>\n",
       "    <tr>\n",
       "      <th>0</th>\n",
       "      <td>410710305021</td>\n",
       "      <td>{\"rings\": [[[-123.566017000063, 45.21638999908...</td>\n",
       "    </tr>\n",
       "    <tr>\n",
       "      <th>1</th>\n",
       "      <td>410050237001</td>\n",
       "      <td>{\"rings\": [[[-122.616170999632, 45.26745799929...</td>\n",
       "    </tr>\n",
       "    <tr>\n",
       "      <th>2</th>\n",
       "      <td>410050237002</td>\n",
       "      <td>{\"rings\": [[[-122.57048000011571, 45.237516999...</td>\n",
       "    </tr>\n",
       "    <tr>\n",
       "      <th>3</th>\n",
       "      <td>410050237003</td>\n",
       "      <td>{\"rings\": [[[-122.5111050007072, 45.2601139996...</td>\n",
       "    </tr>\n",
       "    <tr>\n",
       "      <th>4</th>\n",
       "      <td>410050237004</td>\n",
       "      <td>{\"rings\": [[[-122.5074989996634, 45.2300989998...</td>\n",
       "    </tr>\n",
       "  </tbody>\n",
       "</table>\n",
       "</div>"
      ],
      "text/plain": [
       "             ID                                              SHAPE\n",
       "0  410710305021  {\"rings\": [[[-123.566017000063, 45.21638999908...\n",
       "1  410050237001  {\"rings\": [[[-122.616170999632, 45.26745799929...\n",
       "2  410050237002  {\"rings\": [[[-122.57048000011571, 45.237516999...\n",
       "3  410050237003  {\"rings\": [[[-122.5111050007072, 45.2601139996...\n",
       "4  410050237004  {\"rings\": [[[-122.5074989996634, 45.2300989998..."
      ]
     },
     "execution_count": 9,
     "metadata": {},
     "output_type": "execute_result"
    }
   ],
   "source": [
    "bg_df = bg_df.loc[:,['ID', 'SHAPE']]\n",
    "bg_df.spatial.set_geometry('SHAPE')\n",
    "\n",
    "bg_df.head()"
   ]
  },
  {
   "cell_type": "code",
   "execution_count": 11,
   "metadata": {},
   "outputs": [],
   "source": [
    "bg_df.to_pickle(dir_raw/'block_groups.pkl')"
   ]
  },
  {
   "cell_type": "code",
   "execution_count": null,
   "metadata": {},
   "outputs": [],
   "source": []
  }
 ],
 "metadata": {
  "kernelspec": {
   "display_name": "Python 3 (ipykernel)",
   "language": "python",
   "name": "python3"
  },
  "language_info": {
   "codemirror_mode": {
    "name": "ipython",
    "version": 3
   },
   "file_extension": ".py",
   "mimetype": "text/x-python",
   "name": "python",
   "nbconvert_exporter": "python",
   "pygments_lexer": "ipython3",
   "version": "3.7.11"
  }
 },
 "nbformat": 4,
 "nbformat_minor": 4
}
