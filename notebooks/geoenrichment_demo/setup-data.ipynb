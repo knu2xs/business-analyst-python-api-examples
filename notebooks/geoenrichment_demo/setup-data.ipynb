{
 "cells": [
  {
   "cell_type": "code",
   "execution_count": 47,
   "metadata": {},
   "outputs": [],
   "source": [
    "from pathlib import Path\n",
    "import sys\n",
    "\n",
    "import arcpy"
   ]
  },
  {
   "cell_type": "code",
   "execution_count": 48,
   "metadata": {},
   "outputs": [],
   "source": [
    "sys.path.append(str(Path.cwd().parent/'src'))"
   ]
  },
  {
   "cell_type": "code",
   "execution_count": 49,
   "metadata": {},
   "outputs": [],
   "source": [
    "from demo_data import demo_data"
   ]
  },
  {
   "cell_type": "code",
   "execution_count": 78,
   "metadata": {},
   "outputs": [],
   "source": [
    "dir_data = Path.cwd().parent/'data'\n",
    "\n",
    "dir_raw = dir_data/'raw'\n",
    "dir_int = dir_data/'interim'\n",
    "dir_ext = dir_data/'external'\n",
    "dir_out = dir_data/'processed'\n",
    "\n",
    "dir_lst = [dir_raw, dir_int, dir_ext, dir_out]\n",
    "\n",
    "gdb_raw = dir_raw/'raw.gdb'\n",
    "gdb_int = dir_int/'interim.gdb'\n",
    "gdb_ext = dir_ext/'external.gdb'\n",
    "gdb_out = dir_out/'processed.gdb'\n",
    "\n",
    "gdb_lst = [gdb_raw, gdb_int, gdb_ext, gdb_out]"
   ]
  },
  {
   "cell_type": "code",
   "execution_count": 11,
   "metadata": {},
   "outputs": [],
   "source": [
    "for data_dir in dir_lst:\n",
    "    if not data_dir.exists():\n",
    "        data_dir.mkdir(parents=True)"
   ]
  },
  {
   "cell_type": "code",
   "execution_count": 16,
   "metadata": {},
   "outputs": [],
   "source": [
    "for gdb in gdb_lst:\n",
    "    if not arcpy.Exists(str(gdb)):\n",
    "        arcpy.management.CreateFileGDB(str(gdb.parent), str(gdb.name))"
   ]
  },
  {
   "cell_type": "code",
   "execution_count": 72,
   "metadata": {},
   "outputs": [],
   "source": [
    "ds_nm_lst = ['pdx_coffee_locations', 'pdx_coffee_study_areas_3min']\n",
    "loc_lst = ['396149163', '415150370', '543746176', '750786722']"
   ]
  },
  {
   "cell_type": "code",
   "execution_count": 79,
   "metadata": {},
   "outputs": [
    {
     "name": "stderr",
     "output_type": "stream",
     "text": [
      "C:\\Program Files\\ArcGIS\\Pro\\bin\\Python\\envs\\arcgispro-py3\\Lib\\site-packages\\pandas\\core\\indexing.py:1817: SettingWithCopyWarning: \n",
      "A value is trying to be set on a copy of a slice from a DataFrame.\n",
      "Try using .loc[row_indexer,col_indexer] = value instead\n",
      "\n",
      "See the caveats in the documentation: https://pandas.pydata.org/pandas-docs/stable/user_guide/indexing.html#returning-a-view-versus-a-copy\n",
      "  self._setitem_single_column(loc, value, pi)\n"
     ]
    }
   ],
   "source": [
    "for ds_nm in ds_nm_lst:\n",
    "    da = getattr(demo_data, 'pdx_coffee_locations')\n",
    "    df = da.df\n",
    "    df = df.loc[df.LOCNUM.isin(loc_lst)]\n",
    "    df.spatial.set_geometry('SHAPE')\n",
    "    df.spatial.to_featureclass(str(gdb_int/f'{da.name}_demo'))"
   ]
  },
  {
   "cell_type": "code",
   "execution_count": null,
   "metadata": {},
   "outputs": [],
   "source": []
  }
 ],
 "metadata": {
  "kernelspec": {
   "display_name": "ArcGISPro",
   "language": "Python",
   "name": "python3"
  },
  "language_info": {
   "file_extension": ".py",
   "name": "python",
   "version": "3"
  }
 },
 "nbformat": 4,
 "nbformat_minor": 4
}
